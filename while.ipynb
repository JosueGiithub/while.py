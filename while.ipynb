{
  "nbformat": 4,
  "nbformat_minor": 0,
  "metadata": {
    "colab": {
      "provenance": [],
      "authorship_tag": "ABX9TyNyUrgNrTlJGc+G8+SNvKR7",
      "include_colab_link": true
    },
    "kernelspec": {
      "name": "python3",
      "display_name": "Python 3"
    },
    "language_info": {
      "name": "python"
    }
  },
  "cells": [
    {
      "cell_type": "markdown",
      "metadata": {
        "id": "view-in-github",
        "colab_type": "text"
      },
      "source": [
        "<a href=\"https://colab.research.google.com/github/JosueGiithub/while.py/blob/main/while.ipynb\" target=\"_parent\"><img src=\"https://colab.research.google.com/assets/colab-badge.svg\" alt=\"Open In Colab\"/></a>"
      ]
    },
    {
      "cell_type": "code",
      "execution_count": null,
      "metadata": {
        "id": "4qaWm-EXrmuH"
      },
      "outputs": [],
      "source": [
        "repeat = int(input(\"Roda quantas vezes?\"))\n",
        "\n",
        "while (repeat !=0): #Diferente ou igual a 0\n",
        "  print(repeat)\n",
        "  repeat = repeat -1"
      ]
    }
  ]
}